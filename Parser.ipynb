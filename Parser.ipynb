{
 "cells": [
  {
   "cell_type": "markdown",
   "metadata": {},
   "source": [
    "Необходимо написать скрипт для парсинга диалогов из файла `test_data.csv`. \n",
    "\n",
    "Главные задачи, которые должен выполнять скрипт:\n",
    "* Извлекать реплики с приветствием – где менеджер поздоровался. \n",
    "* Извлекать реплики, где менеджер представил себя. \n",
    "* Извлекать имя менеджера. \n",
    "* Извлекать название компании. \n",
    "* Извлекать реплики, где менеджер попрощался.\n",
    "* Проверять требование к менеджеру: «В каждом диалоге обязательно необходимо поздороваться и попрощаться с клиентом»\n",
    "\n",
    "Можно создать дополнительное поле в таблице test_data.csv, куда будет сохраняться результат парсинга – например, напротив реплики в столбце “insight” можно ставить флаг того, что эта реплика с приветствием greeting=True"
   ]
  },
  {
   "cell_type": "code",
   "execution_count": 1,
   "metadata": {},
   "outputs": [
    {
     "name": "stdout",
     "output_type": "stream",
     "text": [
      "\u001b[01;34m.\u001b[0m\r\n",
      "├── Parser.ipynb\r\n",
      "└── test_data.csv\r\n",
      "\r\n",
      "0 directories, 2 files\r\n"
     ]
    }
   ],
   "source": [
    "! tree"
   ]
  },
  {
   "cell_type": "code",
   "execution_count": 2,
   "metadata": {},
   "outputs": [
    {
     "name": "stdout",
     "output_type": "stream",
     "text": [
      "Requirement already satisfied: ipymarkup in /home/kirill/anaconda3/lib/python3.9/site-packages (0.9.0)\n",
      "Requirement already satisfied: intervaltree>=3 in /home/kirill/anaconda3/lib/python3.9/site-packages (from ipymarkup) (3.1.0)\n",
      "Requirement already satisfied: sortedcontainers<3.0,>=2.0 in /home/kirill/anaconda3/lib/python3.9/site-packages (from intervaltree>=3->ipymarkup) (2.4.0)\n",
      "Note: you may need to restart the kernel to use updated packages.\n"
     ]
    }
   ],
   "source": [
    "%pip install ipymarkup"
   ]
  },
  {
   "cell_type": "code",
   "execution_count": 3,
   "metadata": {},
   "outputs": [],
   "source": [
    "import re\n",
    "\n",
    "import numpy as np\n",
    "import pandas as pd\n",
    "\n",
    "from functools import lru_cache\n",
    "from pymorphy2 import MorphAnalyzer\n",
    "from razdel import tokenize\n",
    "\n",
    "pd.set_option('display.max_columns', None)  \n",
    "pd.set_option('max_colwidth', 800)\n",
    "pd.set_option('display.expand_frame_repr', False)"
   ]
  },
  {
   "cell_type": "code",
   "execution_count": 4,
   "metadata": {},
   "outputs": [],
   "source": [
    "df  = pd.read_csv('test_data.csv')"
   ]
  },
  {
   "cell_type": "code",
   "execution_count": 104,
   "metadata": {},
   "outputs": [
    {
     "data": {
      "text/html": [
       "<div>\n",
       "<style scoped>\n",
       "    .dataframe tbody tr th:only-of-type {\n",
       "        vertical-align: middle;\n",
       "    }\n",
       "\n",
       "    .dataframe tbody tr th {\n",
       "        vertical-align: top;\n",
       "    }\n",
       "\n",
       "    .dataframe thead th {\n",
       "        text-align: right;\n",
       "    }\n",
       "</style>\n",
       "<table border=\"1\" class=\"dataframe\">\n",
       "  <thead>\n",
       "    <tr style=\"text-align: right;\">\n",
       "      <th></th>\n",
       "      <th>dlg_id</th>\n",
       "      <th>line_n</th>\n",
       "      <th>role</th>\n",
       "      <th>text</th>\n",
       "      <th>lemmas</th>\n",
       "      <th>greeting</th>\n",
       "      <th>present</th>\n",
       "    </tr>\n",
       "  </thead>\n",
       "  <tbody>\n",
       "    <tr>\n",
       "      <th>0</th>\n",
       "      <td>0</td>\n",
       "      <td>0</td>\n",
       "      <td>client</td>\n",
       "      <td>Алло</td>\n",
       "      <td>алло</td>\n",
       "      <td>False</td>\n",
       "      <td>None</td>\n",
       "    </tr>\n",
       "    <tr>\n",
       "      <th>1</th>\n",
       "      <td>0</td>\n",
       "      <td>1</td>\n",
       "      <td>manager</td>\n",
       "      <td>Алло здравствуйте</td>\n",
       "      <td>алло здравствуйте</td>\n",
       "      <td>True</td>\n",
       "      <td>None</td>\n",
       "    </tr>\n",
       "    <tr>\n",
       "      <th>2</th>\n",
       "      <td>0</td>\n",
       "      <td>2</td>\n",
       "      <td>client</td>\n",
       "      <td>Добрый день</td>\n",
       "      <td>добрый день</td>\n",
       "      <td>True</td>\n",
       "      <td>None</td>\n",
       "    </tr>\n",
       "    <tr>\n",
       "      <th>3</th>\n",
       "      <td>0</td>\n",
       "      <td>3</td>\n",
       "      <td>manager</td>\n",
       "      <td>Меня зовут ангелина компания диджитал бизнес звоним вам по поводу продления лицензии а мы с серым у вас скоро срок заканчивается</td>\n",
       "      <td>я звать ангелина компания диджитал бизнес звонить вы по повод продление лицензия а мы с серый у вы скоро срок заканчиваться</td>\n",
       "      <td>False</td>\n",
       "      <td>[ангелина, компания, диджитал, бизнес]</td>\n",
       "    </tr>\n",
       "    <tr>\n",
       "      <th>4</th>\n",
       "      <td>0</td>\n",
       "      <td>4</td>\n",
       "      <td>client</td>\n",
       "      <td>Ага</td>\n",
       "      <td>ага</td>\n",
       "      <td>False</td>\n",
       "      <td>None</td>\n",
       "    </tr>\n",
       "    <tr>\n",
       "      <th>5</th>\n",
       "      <td>0</td>\n",
       "      <td>5</td>\n",
       "      <td>manager</td>\n",
       "      <td>Угу ну возможно вы рассмотрите и другие варианты видите это хорошая практика сравнивать</td>\n",
       "      <td>угу ну возможно вы рассмотреть и другой вариант видеть это хороший практика сравнивать</td>\n",
       "      <td>False</td>\n",
       "      <td>None</td>\n",
       "    </tr>\n",
       "    <tr>\n",
       "      <th>6</th>\n",
       "      <td>0</td>\n",
       "      <td>6</td>\n",
       "      <td>client</td>\n",
       "      <td>Да мы работаем с компанией которая нам подливает поэтому спасибо огромное</td>\n",
       "      <td>да мы работать с компания который мы подливать поэтому спасибо огромный</td>\n",
       "      <td>False</td>\n",
       "      <td>None</td>\n",
       "    </tr>\n",
       "    <tr>\n",
       "      <th>7</th>\n",
       "      <td>0</td>\n",
       "      <td>7</td>\n",
       "      <td>client</td>\n",
       "      <td>Как как бы уже до этого момента работаем все устраивает + у нас сопровождение поэтому</td>\n",
       "      <td>как как бы уже до это момент работать всё устраивать + у мы сопровождение поэтому</td>\n",
       "      <td>False</td>\n",
       "      <td>None</td>\n",
       "    </tr>\n",
       "    <tr>\n",
       "      <th>8</th>\n",
       "      <td>0</td>\n",
       "      <td>8</td>\n",
       "      <td>manager</td>\n",
       "      <td>Угу а на что вы обращаете внимание при выборе</td>\n",
       "      <td>угу а на что вы обращать внимание при выбор</td>\n",
       "      <td>False</td>\n",
       "      <td>None</td>\n",
       "    </tr>\n",
       "    <tr>\n",
       "      <th>9</th>\n",
       "      <td>0</td>\n",
       "      <td>9</td>\n",
       "      <td>client</td>\n",
       "      <td>Как бы нет</td>\n",
       "      <td>как бы нет</td>\n",
       "      <td>False</td>\n",
       "      <td>None</td>\n",
       "    </tr>\n",
       "  </tbody>\n",
       "</table>\n",
       "</div>"
      ],
      "text/plain": [
       "   dlg_id  line_n     role                                                                                                                              text                                                                                                                       lemmas  greeting                                 present\n",
       "0       0       0   client                                                                                                                              Алло                                                                                                                         алло     False                                    None\n",
       "1       0       1  manager                                                                                                                 Алло здравствуйте                                                                                                            алло здравствуйте      True                                    None\n",
       "2       0       2   client                                                                                                                       Добрый день                                                                                                                  добрый день      True                                    None\n",
       "3       0       3  manager  Меня зовут ангелина компания диджитал бизнес звоним вам по поводу продления лицензии а мы с серым у вас скоро срок заканчивается  я звать ангелина компания диджитал бизнес звонить вы по повод продление лицензия а мы с серый у вы скоро срок заканчиваться     False  [ангелина, компания, диджитал, бизнес]\n",
       "4       0       4   client                                                                                                                               Ага                                                                                                                          ага     False                                    None\n",
       "5       0       5  manager                                           Угу ну возможно вы рассмотрите и другие варианты видите это хорошая практика сравнивать                                       угу ну возможно вы рассмотреть и другой вариант видеть это хороший практика сравнивать     False                                    None\n",
       "6       0       6   client                                                         Да мы работаем с компанией которая нам подливает поэтому спасибо огромное                                                      да мы работать с компания который мы подливать поэтому спасибо огромный     False                                    None\n",
       "7       0       7   client                                             Как как бы уже до этого момента работаем все устраивает + у нас сопровождение поэтому                                            как как бы уже до это момент работать всё устраивать + у мы сопровождение поэтому     False                                    None\n",
       "8       0       8  manager                                                                                     Угу а на что вы обращаете внимание при выборе                                                                                  угу а на что вы обращать внимание при выбор     False                                    None\n",
       "9       0       9   client                                                                                                                        Как бы нет                                                                                                                   как бы нет     False                                    None"
      ]
     },
     "execution_count": 104,
     "metadata": {},
     "output_type": "execute_result"
    }
   ],
   "source": [
    "df.head(10)"
   ]
  },
  {
   "cell_type": "code",
   "execution_count": 6,
   "metadata": {},
   "outputs": [],
   "source": [
    "m = MorphAnalyzer()\n",
    "\n",
    "def words_only(text):\n",
    "    try:\n",
    "        return [_.text for _ in list(tokenize(text))]\n",
    "    except:\n",
    "        return []\n",
    "        \n",
    "@lru_cache(maxsize=2048)\n",
    "def lemmatize_word(token, pymorphy=m):\n",
    "    return pymorphy.parse(token)[0].normal_form\n",
    "\n",
    "def lemmatize_text(text):\n",
    "    return [lemmatize_word(w) for w in text]"
   ]
  },
  {
   "cell_type": "code",
   "execution_count": 7,
   "metadata": {},
   "outputs": [],
   "source": [
    "def clean_text(text):\n",
    "    tokens = words_only(text)\n",
    "    lemmas = lemmatize_text(tokens)\n",
    "    \n",
    "    return ' '.join(lemmas)"
   ]
  },
  {
   "cell_type": "code",
   "execution_count": 8,
   "metadata": {},
   "outputs": [
    {
     "name": "stderr",
     "output_type": "stream",
     "text": [
      "100%|██████████████████████████████████████████████████████████████████████████████████████████████████████████████████████████████████████████████████████████████████████████| 480/480 [00:00<00:00, 7385.10it/s]\n"
     ]
    }
   ],
   "source": [
    "from multiprocessing import Pool\n",
    "from tqdm import tqdm\n",
    "\n",
    "with Pool(4) as p:\n",
    "    lemmas = list(tqdm(p.imap(clean_text, df['text']), total=len(df)))\n",
    "    \n",
    "df['lemmas'] = lemmas"
   ]
  },
  {
   "cell_type": "markdown",
   "metadata": {},
   "source": [
    "`Yargy` lib  "
   ]
  },
  {
   "cell_type": "code",
   "execution_count": 9,
   "metadata": {},
   "outputs": [
    {
     "name": "stdout",
     "output_type": "stream",
     "text": [
      "Requirement already satisfied: yargy in /home/kirill/anaconda3/lib/python3.9/site-packages (0.15.0)\n",
      "Requirement already satisfied: pymorphy2 in /home/kirill/anaconda3/lib/python3.9/site-packages (from yargy) (0.9.1)\n",
      "Requirement already satisfied: pymorphy2-dicts-ru<3.0,>=2.4 in /home/kirill/anaconda3/lib/python3.9/site-packages (from pymorphy2->yargy) (2.4.417127.4579844)\n",
      "Requirement already satisfied: dawg-python>=0.7.1 in /home/kirill/anaconda3/lib/python3.9/site-packages (from pymorphy2->yargy) (0.7.2)\n",
      "Requirement already satisfied: docopt>=0.6 in /home/kirill/anaconda3/lib/python3.9/site-packages (from pymorphy2->yargy) (0.6.2)\n"
     ]
    }
   ],
   "source": [
    "!pip install yargy"
   ]
  },
  {
   "cell_type": "code",
   "execution_count": 106,
   "metadata": {},
   "outputs": [],
   "source": [
    "from ipymarkup import show_span_ascii_markup as show_markup\n",
    "\n",
    "from yargy import Parser, rule, and_, not_, or_\n",
    "from yargy.predicates import dictionary, gram, eq, normalized\n",
    "from yargy.interpretation import fact, attribute\n",
    "from yargy.pipelines import morph_pipeline, pipeline\n",
    "from yargy.parser import prepare_trees\n",
    "from yargy.tokenizer import MorphTokenizer\n"
   ]
  },
  {
   "cell_type": "code",
   "execution_count": 159,
   "metadata": {},
   "outputs": [],
   "source": [
    "Manager = fact(\n",
    "    'Manager',\n",
    "    ['greetings', 'name',\n",
    "    'company', 'goodbuy']\n",
    ")"
   ]
  },
  {
   "cell_type": "markdown",
   "metadata": {},
   "source": [
    "### Name"
   ]
  },
  {
   "cell_type": "code",
   "execution_count": 165,
   "metadata": {},
   "outputs": [],
   "source": [
    "Name = fact(\n",
    "    'Name',\n",
    "    ['first']\n",
    ")\n",
    "\n",
    "HEADER = rule(\n",
    "    or_(\n",
    "    rule(normalized('я')),\n",
    "    rule(normalized('звать'))\n",
    "    )\n",
    ")\n",
    "\n",
    "FIRST = and_(\n",
    "    gram('Name'),\n",
    "    not_(gram('Abbr')),\n",
    "    not_(gram('PREP'))\n",
    ").interpretation(Name.first)\n",
    "\n",
    "NAME = rule(\n",
    "    HEADER,\n",
    "    FIRST\n",
    ").interpretation(Name).interpretation(Manager.name)"
   ]
  },
  {
   "cell_type": "markdown",
   "metadata": {},
   "source": [
    "### Company"
   ]
  },
  {
   "cell_type": "code",
   "execution_count": 171,
   "metadata": {},
   "outputs": [],
   "source": [
    "Company = fact(\n",
    "    'Company',\n",
    "    ['company_name']\n",
    ")\n",
    "\n",
    "COMPANY_NAME = rule(\n",
    "    eq('компания'),\n",
    "    gram('ADJF').optional(),\n",
    "    gram('NOUN').repeatable()\n",
    ").interpretation(Company.company_name)\n",
    "\n",
    "COMPANY = rule(\n",
    "    COMPANY_NAME\n",
    ").interpretation(Company).interpretation(Manager.company)"
   ]
  },
  {
   "cell_type": "markdown",
   "metadata": {},
   "source": [
    "### Greetings & Goodbuy"
   ]
  },
  {
   "cell_type": "code",
   "execution_count": 172,
   "metadata": {},
   "outputs": [],
   "source": [
    "Greetings = fact('Greetings', ['value'])\n",
    "\n",
    "TYPES = {\n",
    "    'здравствуйте', \n",
    "    'добрый день',\n",
    "    'добрый'\n",
    "}\n",
    "\n",
    "GREETINGS = rule(\n",
    "    morph_pipeline(TYPES)\n",
    ").interpretation(Greetings.value).interpretation(Greetings).interpretation(Manager.greetings)"
   ]
  },
  {
   "cell_type": "code",
   "execution_count": 173,
   "metadata": {},
   "outputs": [],
   "source": [
    "Goodbuy = fact('Goodbuy', ['value'])\n",
    "\n",
    "TYPES = {\n",
    "    'до свидания', \n",
    "    'всего доброго',\n",
    "    'хорошего вечера'\n",
    "}\n",
    "\n",
    "GOODBUY = rule(\n",
    "    morph_pipeline(TYPES)\n",
    ").interpretation(Goodbuy.value).interpretation(Goodbuy).interpretation(Manager.goodbuy)"
   ]
  },
  {
   "cell_type": "markdown",
   "metadata": {},
   "source": [
    "### Manager parser"
   ]
  },
  {
   "cell_type": "code",
   "execution_count": 188,
   "metadata": {},
   "outputs": [],
   "source": [
    "MANAGER = or_(\n",
    "    GREETINGS, \n",
    "    NAME,\n",
    "    COMPANY,\n",
    "    GOODBUY).interpretation(Manager)"
   ]
  },
  {
   "cell_type": "code",
   "execution_count": 189,
   "metadata": {},
   "outputs": [],
   "source": [
    "_parser_manager = Parser(MANAGER)"
   ]
  },
  {
   "cell_type": "code",
   "execution_count": 215,
   "metadata": {},
   "outputs": [],
   "source": [
    "def parser_manager(text):\n",
    "    matches = list(_parser_manager.findall(text))\n",
    "    if matches:\n",
    "        return [match.fact.as_json for match in matches]\n",
    "    else: return None"
   ]
  },
  {
   "cell_type": "code",
   "execution_count": 245,
   "metadata": {},
   "outputs": [
    {
     "name": "stdout",
     "output_type": "stream",
     "text": [
      "добрый день я звать ангелина компания диджитал бизнес звонить вы по \n",
      "───────────   ────────────── ────────────────────────               \n",
      "повод продление а мы сель обратить внимание что \n"
     ]
    }
   ],
   "source": [
    "## FOR LOCAL DEBUG \n",
    "\n",
    "text = 'добрый день я звать ангелина компания диджитал бизнес звонить вы по повод продление а мы сель обратить внимание что '\n",
    "\n",
    "matches = list(_parser_manager.findall(text))\n",
    "spans = [_.span for _ in matches]\n",
    "show_markup(text, spans)"
   ]
  },
  {
   "cell_type": "code",
   "execution_count": 217,
   "metadata": {},
   "outputs": [
    {
     "name": "stderr",
     "output_type": "stream",
     "text": [
      "100%|██████████| 480/480 [00:00<00:00, 2910.10it/s]\n"
     ]
    }
   ],
   "source": [
    "with Pool(4) as p:\n",
    "    lemmas = list(tqdm(p.imap(parser_manager, df['lemmas']), total=len(df)))\n",
    "    \n",
    "df['insights'] = lemmas"
   ]
  },
  {
   "cell_type": "code",
   "execution_count": 242,
   "metadata": {},
   "outputs": [
    {
     "data": {
      "text/html": [
       "<div>\n",
       "<style scoped>\n",
       "    .dataframe tbody tr th:only-of-type {\n",
       "        vertical-align: middle;\n",
       "    }\n",
       "\n",
       "    .dataframe tbody tr th {\n",
       "        vertical-align: top;\n",
       "    }\n",
       "\n",
       "    .dataframe thead th {\n",
       "        text-align: right;\n",
       "    }\n",
       "</style>\n",
       "<table border=\"1\" class=\"dataframe\">\n",
       "  <thead>\n",
       "    <tr style=\"text-align: right;\">\n",
       "      <th></th>\n",
       "      <th>dlg_id</th>\n",
       "      <th>line_n</th>\n",
       "      <th>role</th>\n",
       "      <th>text</th>\n",
       "      <th>lemmas</th>\n",
       "      <th>greeting</th>\n",
       "      <th>present</th>\n",
       "      <th>insights</th>\n",
       "    </tr>\n",
       "  </thead>\n",
       "  <tbody>\n",
       "    <tr>\n",
       "      <th>164</th>\n",
       "      <td>2</td>\n",
       "      <td>0</td>\n",
       "      <td>client</td>\n",
       "      <td>Алло</td>\n",
       "      <td>алло</td>\n",
       "      <td>False</td>\n",
       "      <td>None</td>\n",
       "      <td>None</td>\n",
       "    </tr>\n",
       "    <tr>\n",
       "      <th>165</th>\n",
       "      <td>2</td>\n",
       "      <td>1</td>\n",
       "      <td>client</td>\n",
       "      <td>Здравствуйте</td>\n",
       "      <td>здравствуйте</td>\n",
       "      <td>True</td>\n",
       "      <td>None</td>\n",
       "      <td>[{'greetings': {'value': 'здравствуйте'}}]</td>\n",
       "    </tr>\n",
       "    <tr>\n",
       "      <th>166</th>\n",
       "      <td>2</td>\n",
       "      <td>2</td>\n",
       "      <td>manager</td>\n",
       "      <td>Алло здравствуйте</td>\n",
       "      <td>алло здравствуйте</td>\n",
       "      <td>True</td>\n",
       "      <td>None</td>\n",
       "      <td>[{'greetings': {'value': 'здравствуйте'}}]</td>\n",
       "    </tr>\n",
       "    <tr>\n",
       "      <th>167</th>\n",
       "      <td>2</td>\n",
       "      <td>3</td>\n",
       "      <td>manager</td>\n",
       "      <td>Меня зовут ангелина компания диджитал бизнес звоню вам по поводу продления лицензии а мастера мы с вами сотрудничали по видео там</td>\n",
       "      <td>я звать ангелина компания диджитал бизнес звонить вы по повод продление лицензия а мастер мы с вы сотрудничать по видео там</td>\n",
       "      <td>False</td>\n",
       "      <td>[ангелина, компания, диджитал, бизнес]</td>\n",
       "      <td>[{'name': {'first': 'ангелина'}}, {'company': {'company_name': 'компания диджитал бизнес'}}]</td>\n",
       "    </tr>\n",
       "  </tbody>\n",
       "</table>\n",
       "</div>"
      ],
      "text/plain": [
       "     dlg_id  line_n     role                                                                                                                               text                                                                                                                       lemmas  greeting                                 present                                                                                      insights\n",
       "164       2       0   client                                                                                                                               Алло                                                                                                                         алло     False                                    None                                                                                          None\n",
       "165       2       1   client                                                                                                                       Здравствуйте                                                                                                                 здравствуйте      True                                    None                                                    [{'greetings': {'value': 'здравствуйте'}}]\n",
       "166       2       2  manager                                                                                                                  Алло здравствуйте                                                                                                            алло здравствуйте      True                                    None                                                    [{'greetings': {'value': 'здравствуйте'}}]\n",
       "167       2       3  manager  Меня зовут ангелина компания диджитал бизнес звоню вам по поводу продления лицензии а мастера мы с вами сотрудничали по видео там  я звать ангелина компания диджитал бизнес звонить вы по повод продление лицензия а мастер мы с вы сотрудничать по видео там     False  [ангелина, компания, диджитал, бизнес]  [{'name': {'first': 'ангелина'}}, {'company': {'company_name': 'компания диджитал бизнес'}}]"
      ]
     },
     "execution_count": 242,
     "metadata": {},
     "output_type": "execute_result"
    }
   ],
   "source": [
    "df.loc[df['dlg_id']==2].head(4)"
   ]
  },
  {
   "cell_type": "code",
   "execution_count": 223,
   "metadata": {},
   "outputs": [
    {
     "data": {
      "text/html": [
       "<div>\n",
       "<style scoped>\n",
       "    .dataframe tbody tr th:only-of-type {\n",
       "        vertical-align: middle;\n",
       "    }\n",
       "\n",
       "    .dataframe tbody tr th {\n",
       "        vertical-align: top;\n",
       "    }\n",
       "\n",
       "    .dataframe thead th {\n",
       "        text-align: right;\n",
       "    }\n",
       "</style>\n",
       "<table border=\"1\" class=\"dataframe\">\n",
       "  <thead>\n",
       "    <tr style=\"text-align: right;\">\n",
       "      <th></th>\n",
       "      <th>dlg_id</th>\n",
       "      <th>line_n</th>\n",
       "      <th>role</th>\n",
       "      <th>text</th>\n",
       "      <th>lemmas</th>\n",
       "      <th>greeting</th>\n",
       "      <th>present</th>\n",
       "      <th>insights</th>\n",
       "    </tr>\n",
       "  </thead>\n",
       "  <tbody>\n",
       "    <tr>\n",
       "      <th>249</th>\n",
       "      <td>3</td>\n",
       "      <td>0</td>\n",
       "      <td>client</td>\n",
       "      <td>Добрый день</td>\n",
       "      <td>добрый день</td>\n",
       "      <td>True</td>\n",
       "      <td>None</td>\n",
       "      <td>[{'greetings': {'value': 'добрый день'}}]</td>\n",
       "    </tr>\n",
       "    <tr>\n",
       "      <th>250</th>\n",
       "      <td>3</td>\n",
       "      <td>1</td>\n",
       "      <td>manager</td>\n",
       "      <td>Алло дмитрий добрый день</td>\n",
       "      <td>алло дмитрий добрый день</td>\n",
       "      <td>True</td>\n",
       "      <td>None</td>\n",
       "      <td>[{'greetings': {'value': 'добрый день'}}]</td>\n",
       "    </tr>\n",
       "    <tr>\n",
       "      <th>251</th>\n",
       "      <td>3</td>\n",
       "      <td>2</td>\n",
       "      <td>manager</td>\n",
       "      <td>Добрый меня максим зовут компания китобизнес удобно говорить</td>\n",
       "      <td>добрый я максим звать компания китобизнес удобно говорить</td>\n",
       "      <td>True</td>\n",
       "      <td>None</td>\n",
       "      <td>[{'greetings': {'value': 'добрый'}}, {'name': {'first': 'максим'}}, {'company': {'company_name': 'компания китобизнес'}}]</td>\n",
       "    </tr>\n",
       "  </tbody>\n",
       "</table>\n",
       "</div>"
      ],
      "text/plain": [
       "     dlg_id  line_n     role                                                          text                                                     lemmas  greeting present                                                                                                                   insights\n",
       "249       3       0   client                                                   Добрый день                                                добрый день      True    None                                                                                  [{'greetings': {'value': 'добрый день'}}]\n",
       "250       3       1  manager                                      Алло дмитрий добрый день                                   алло дмитрий добрый день      True    None                                                                                  [{'greetings': {'value': 'добрый день'}}]\n",
       "251       3       2  manager  Добрый меня максим зовут компания китобизнес удобно говорить  добрый я максим звать компания китобизнес удобно говорить      True    None  [{'greetings': {'value': 'добрый'}}, {'name': {'first': 'максим'}}, {'company': {'company_name': 'компания китобизнес'}}]"
      ]
     },
     "execution_count": 223,
     "metadata": {},
     "output_type": "execute_result"
    }
   ],
   "source": [
    "df.loc[df['dlg_id']==3].head(3)"
   ]
  },
  {
   "cell_type": "markdown",
   "metadata": {},
   "source": [
    "Проверим требование к менеджеру: «В каждом диалоге обязательно необходимо поздороваться и попрощаться с клиентом»  "
   ]
  },
  {
   "cell_type": "code",
   "execution_count": 244,
   "metadata": {},
   "outputs": [
    {
     "name": "stdout",
     "output_type": "stream",
     "text": [
      "approved for dlg_id: 0\n",
      "approved for dlg_id: 1\n",
      "NOT approved for dlg_id: 2\n",
      "approved for dlg_id: 3\n",
      "NOT approved for dlg_id: 4\n",
      "NOT approved for dlg_id: 5\n"
     ]
    }
   ],
   "source": [
    "for dlg_id in df['dlg_id'].unique():\n",
    "    demand = [False, False]\n",
    "    for ins in df.loc[np.logical_and(\n",
    "        df['dlg_id']==dlg_id, \n",
    "        df['role'] == 'manager')\n",
    "        ]['insights'].dropna().values:\n",
    "        \n",
    "        if 'greetings' in ins[0]:\n",
    "            demand[0] = True\n",
    "        if 'goodbuy' in ins[0]:\n",
    "            demand[1] = True\n",
    "    if demand == [True, True]:\n",
    "        print(f'approved for dlg_id: {dlg_id}')\n",
    "    else:\n",
    "        print(f'NOT approved for dlg_id: {dlg_id}')"
   ]
  }
 ],
 "metadata": {
  "kernelspec": {
   "display_name": "Python 3 (ipykernel)",
   "language": "python",
   "name": "python3"
  },
  "language_info": {
   "codemirror_mode": {
    "name": "ipython",
    "version": 3
   },
   "file_extension": ".py",
   "mimetype": "text/x-python",
   "name": "python",
   "nbconvert_exporter": "python",
   "pygments_lexer": "ipython3",
   "version": "3.9.12"
  },
  "vscode": {
   "interpreter": {
    "hash": "fd2d63775d6b861368f2b68b88b1b40a35d08c6b96cd47d9eb8c9533c1d8ad02"
   }
  }
 },
 "nbformat": 4,
 "nbformat_minor": 2
}
