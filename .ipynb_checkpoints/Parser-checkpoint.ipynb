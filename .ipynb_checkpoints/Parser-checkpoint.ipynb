{
 "cells": [
  {
   "cell_type": "markdown",
   "metadata": {},
   "source": [
    "Необходимо написать скрипт для парсинга диалогов из файла `test_data.csv`. \n",
    "\n",
    "Главные задачи, которые должен выполнять скрипт:\n",
    "* Извлекать реплики с приветствием – где менеджер поздоровался. \n",
    "* Извлекать реплики, где менеджер представил себя. \n",
    "* Извлекать имя менеджера. \n",
    "* Извлекать название компании. \n",
    "* Извлекать реплики, где менеджер попрощался.\n",
    "* Проверять требование к менеджеру: «В каждом диалоге обязательно необходимо поздороваться и попрощаться с клиентом»\n",
    "\n",
    "Можно создать дополнительное поле в таблице test_data.csv, куда будет сохраняться результат парсинга – например, напротив реплики в столбце “insight” можно ставить флаг того, что эта реплика с приветствием greeting=True"
   ]
  },
  {
   "cell_type": "code",
   "execution_count": 1,
   "metadata": {},
   "outputs": [
    {
     "name": "stdout",
     "output_type": "stream",
     "text": [
      "\u001b[01;34m.\u001b[0m\r\n",
      "├── Parser.ipynb\r\n",
      "└── test_data.csv\r\n",
      "\r\n",
      "0 directories, 2 files\r\n"
     ]
    }
   ],
   "source": [
    "! tree"
   ]
  },
  {
   "cell_type": "code",
   "execution_count": 2,
   "metadata": {},
   "outputs": [
    {
     "name": "stdout",
     "output_type": "stream",
     "text": [
      "Requirement already satisfied: ipymarkup in /home/kirill/anaconda3/lib/python3.9/site-packages (0.9.0)\n",
      "Requirement already satisfied: intervaltree>=3 in /home/kirill/anaconda3/lib/python3.9/site-packages (from ipymarkup) (3.1.0)\n",
      "Requirement already satisfied: sortedcontainers<3.0,>=2.0 in /home/kirill/anaconda3/lib/python3.9/site-packages (from intervaltree>=3->ipymarkup) (2.4.0)\n",
      "Note: you may need to restart the kernel to use updated packages.\n"
     ]
    }
   ],
   "source": [
    "%pip install ipymarkup"
   ]
  },
  {
   "cell_type": "code",
   "execution_count": 3,
   "metadata": {},
   "outputs": [],
   "source": [
    "import re\n",
    "\n",
    "import numpy as np\n",
    "import pandas as pd\n",
    "\n",
    "from functools import lru_cache\n",
    "from pymorphy2 import MorphAnalyzer\n",
    "from razdel import tokenize\n",
    "\n",
    "pd.set_option('display.max_columns', None)  \n",
    "pd.set_option('max_colwidth', 800)\n",
    "pd.set_option('display.expand_frame_repr', False)"
   ]
  },
  {
   "cell_type": "code",
   "execution_count": 4,
   "metadata": {},
   "outputs": [],
   "source": [
    "df  = pd.read_csv('test_data.csv')"
   ]
  },
  {
   "cell_type": "code",
   "execution_count": 5,
   "metadata": {},
   "outputs": [
    {
     "data": {
      "text/html": [
       "<div>\n",
       "<style scoped>\n",
       "    .dataframe tbody tr th:only-of-type {\n",
       "        vertical-align: middle;\n",
       "    }\n",
       "\n",
       "    .dataframe tbody tr th {\n",
       "        vertical-align: top;\n",
       "    }\n",
       "\n",
       "    .dataframe thead th {\n",
       "        text-align: right;\n",
       "    }\n",
       "</style>\n",
       "<table border=\"1\" class=\"dataframe\">\n",
       "  <thead>\n",
       "    <tr style=\"text-align: right;\">\n",
       "      <th></th>\n",
       "      <th>dlg_id</th>\n",
       "      <th>line_n</th>\n",
       "      <th>role</th>\n",
       "      <th>text</th>\n",
       "    </tr>\n",
       "  </thead>\n",
       "  <tbody>\n",
       "    <tr>\n",
       "      <th>0</th>\n",
       "      <td>0</td>\n",
       "      <td>0</td>\n",
       "      <td>client</td>\n",
       "      <td>Алло</td>\n",
       "    </tr>\n",
       "    <tr>\n",
       "      <th>1</th>\n",
       "      <td>0</td>\n",
       "      <td>1</td>\n",
       "      <td>manager</td>\n",
       "      <td>Алло здравствуйте</td>\n",
       "    </tr>\n",
       "    <tr>\n",
       "      <th>2</th>\n",
       "      <td>0</td>\n",
       "      <td>2</td>\n",
       "      <td>client</td>\n",
       "      <td>Добрый день</td>\n",
       "    </tr>\n",
       "    <tr>\n",
       "      <th>3</th>\n",
       "      <td>0</td>\n",
       "      <td>3</td>\n",
       "      <td>manager</td>\n",
       "      <td>Меня зовут ангелина компания диджитал бизнес звоним вам по поводу продления лицензии а мы с серым у вас скоро срок заканчивается</td>\n",
       "    </tr>\n",
       "    <tr>\n",
       "      <th>4</th>\n",
       "      <td>0</td>\n",
       "      <td>4</td>\n",
       "      <td>client</td>\n",
       "      <td>Ага</td>\n",
       "    </tr>\n",
       "    <tr>\n",
       "      <th>5</th>\n",
       "      <td>0</td>\n",
       "      <td>5</td>\n",
       "      <td>manager</td>\n",
       "      <td>Угу ну возможно вы рассмотрите и другие варианты видите это хорошая практика сравнивать</td>\n",
       "    </tr>\n",
       "    <tr>\n",
       "      <th>6</th>\n",
       "      <td>0</td>\n",
       "      <td>6</td>\n",
       "      <td>client</td>\n",
       "      <td>Да мы работаем с компанией которая нам подливает поэтому спасибо огромное</td>\n",
       "    </tr>\n",
       "    <tr>\n",
       "      <th>7</th>\n",
       "      <td>0</td>\n",
       "      <td>7</td>\n",
       "      <td>client</td>\n",
       "      <td>Как как бы уже до этого момента работаем все устраивает + у нас сопровождение поэтому</td>\n",
       "    </tr>\n",
       "    <tr>\n",
       "      <th>8</th>\n",
       "      <td>0</td>\n",
       "      <td>8</td>\n",
       "      <td>manager</td>\n",
       "      <td>Угу а на что вы обращаете внимание при выборе</td>\n",
       "    </tr>\n",
       "    <tr>\n",
       "      <th>9</th>\n",
       "      <td>0</td>\n",
       "      <td>9</td>\n",
       "      <td>client</td>\n",
       "      <td>Как бы нет</td>\n",
       "    </tr>\n",
       "  </tbody>\n",
       "</table>\n",
       "</div>"
      ],
      "text/plain": [
       "   dlg_id  line_n     role                                                                                                                              text\n",
       "0       0       0   client                                                                                                                              Алло\n",
       "1       0       1  manager                                                                                                                 Алло здравствуйте\n",
       "2       0       2   client                                                                                                                       Добрый день\n",
       "3       0       3  manager  Меня зовут ангелина компания диджитал бизнес звоним вам по поводу продления лицензии а мы с серым у вас скоро срок заканчивается\n",
       "4       0       4   client                                                                                                                               Ага\n",
       "5       0       5  manager                                           Угу ну возможно вы рассмотрите и другие варианты видите это хорошая практика сравнивать\n",
       "6       0       6   client                                                         Да мы работаем с компанией которая нам подливает поэтому спасибо огромное\n",
       "7       0       7   client                                             Как как бы уже до этого момента работаем все устраивает + у нас сопровождение поэтому\n",
       "8       0       8  manager                                                                                     Угу а на что вы обращаете внимание при выборе\n",
       "9       0       9   client                                                                                                                        Как бы нет"
      ]
     },
     "execution_count": 5,
     "metadata": {},
     "output_type": "execute_result"
    }
   ],
   "source": [
    "df.head(10)"
   ]
  },
  {
   "cell_type": "code",
   "execution_count": 6,
   "metadata": {},
   "outputs": [],
   "source": [
    "m = MorphAnalyzer()\n",
    "\n",
    "def words_only(text):\n",
    "    try:\n",
    "        return [_.text for _ in list(tokenize(text))]\n",
    "    except:\n",
    "        return []\n",
    "        \n",
    "@lru_cache(maxsize=2048)\n",
    "def lemmatize_word(token, pymorphy=m):\n",
    "    return pymorphy.parse(token)[0].normal_form\n",
    "\n",
    "def lemmatize_text(text):\n",
    "    return [lemmatize_word(w) for w in text]"
   ]
  },
  {
   "cell_type": "code",
   "execution_count": 7,
   "metadata": {},
   "outputs": [],
   "source": [
    "def clean_text(text):\n",
    "    tokens = words_only(text)\n",
    "    lemmas = lemmatize_text(tokens)\n",
    "    \n",
    "    return ' '.join(lemmas)"
   ]
  },
  {
   "cell_type": "code",
   "execution_count": 8,
   "metadata": {},
   "outputs": [
    {
     "name": "stderr",
     "output_type": "stream",
     "text": [
      "100%|██████████████████████████████████████████████████████████████████████████████████████████████████████████████████████████████████████████████████████████████████████████| 480/480 [00:00<00:00, 7385.10it/s]\n"
     ]
    }
   ],
   "source": [
    "from multiprocessing import Pool\n",
    "from tqdm import tqdm\n",
    "\n",
    "with Pool(4) as p:\n",
    "    lemmas = list(tqdm(p.imap(clean_text, df['text']), total=len(df)))\n",
    "    \n",
    "df['lemmas'] = lemmas"
   ]
  },
  {
   "cell_type": "markdown",
   "metadata": {},
   "source": [
    "`Yargy` lib  "
   ]
  },
  {
   "cell_type": "code",
   "execution_count": 9,
   "metadata": {},
   "outputs": [
    {
     "name": "stdout",
     "output_type": "stream",
     "text": [
      "Requirement already satisfied: yargy in /home/kirill/anaconda3/lib/python3.9/site-packages (0.15.0)\n",
      "Requirement already satisfied: pymorphy2 in /home/kirill/anaconda3/lib/python3.9/site-packages (from yargy) (0.9.1)\n",
      "Requirement already satisfied: pymorphy2-dicts-ru<3.0,>=2.4 in /home/kirill/anaconda3/lib/python3.9/site-packages (from pymorphy2->yargy) (2.4.417127.4579844)\n",
      "Requirement already satisfied: dawg-python>=0.7.1 in /home/kirill/anaconda3/lib/python3.9/site-packages (from pymorphy2->yargy) (0.7.2)\n",
      "Requirement already satisfied: docopt>=0.6 in /home/kirill/anaconda3/lib/python3.9/site-packages (from pymorphy2->yargy) (0.6.2)\n"
     ]
    }
   ],
   "source": [
    "!pip install yargy"
   ]
  },
  {
   "cell_type": "code",
   "execution_count": 13,
   "metadata": {},
   "outputs": [],
   "source": [
    "from ipymarkup import show_span_ascii_markup as show_markup\n",
    "\n",
    "from yargy import Parser, rule, and_, not_, or_\n",
    "from yargy.predicates import dictionary, gram, eq\n",
    "from yargy.interpretation import fact, attribute\n",
    "from yargy.pipelines import morph_pipeline, pipeline\n",
    "from yargy.parser import prepare_trees\n",
    "from yargy.tokenizer import MorphTokenizer\n"
   ]
  },
  {
   "cell_type": "code",
   "execution_count": 15,
   "metadata": {},
   "outputs": [],
   "source": [
    "About = fact(\n",
    "    'About',\n",
    "    ['company', 'manager_name']\n",
    ")"
   ]
  },
  {
   "cell_type": "markdown",
   "metadata": {},
   "source": [
    "### Name"
   ]
  },
  {
   "cell_type": "code",
   "execution_count": 16,
   "metadata": {},
   "outputs": [],
   "source": [
    "Name = fact(\n",
    "    'Name',\n",
    "    ['first']\n",
    ")\n",
    "\n",
    "FIRST = and_(\n",
    "    gram('Name'),\n",
    "    not_(gram('Abbr')),\n",
    "    not_(gram('PREP'))\n",
    ").interpretation(\n",
    "    Name.first\n",
    ")\n",
    "\n",
    "NAME = rule(\n",
    "    FIRST\n",
    ").interpretation(\n",
    "    About.manager_name\n",
    ")\n"
   ]
  },
  {
   "cell_type": "markdown",
   "metadata": {},
   "source": [
    "### Company"
   ]
  },
  {
   "cell_type": "code",
   "execution_count": 60,
   "metadata": {},
   "outputs": [],
   "source": [
    "TITLE = rule(\n",
    "    eq('компания')\n",
    ")\n",
    "\n",
    "COMPANY_NAME = rule(\n",
    "    gram('ADJF').optional(),\n",
    "    gram('NOUN').repeatable()\n",
    ").interpretation(\n",
    "        About.company\n",
    ")\n",
    "\n",
    "COMPANY = rule(\n",
    "    TITLE,\n",
    "    COMPANY_NAME\n",
    ")"
   ]
  },
  {
   "cell_type": "code",
   "execution_count": 70,
   "metadata": {},
   "outputs": [],
   "source": [
    "Proxy = fact('Proxy', ['value'])\n",
    "\n",
    "GREETINGS = rule(\n",
    "    dictionary([\n",
    "        'здравствуйте', \n",
    "        'добрый день',\n",
    "        'добрый'\n",
    "    ])\n",
    ").interpretation(Proxy.value).interpretation(Proxy)\n",
    "\n",
    "PRESENT_NAME = rule(\n",
    "    NAME\n",
    ").interpretation(Proxy.value).interpretation(Proxy)\n",
    "\n",
    "PRESENT_COMPANY = rule(\n",
    "    COMPANY\n",
    ").interpretation(Proxy.value).interpretation(Proxy)"
   ]
  },
  {
   "cell_type": "code",
   "execution_count": 42,
   "metadata": {},
   "outputs": [],
   "source": [
    "_parser_greetings = Parser(GREETINGS)\n",
    "_parser_present = Parser(PRESENT)"
   ]
  },
  {
   "cell_type": "code",
   "execution_count": 43,
   "metadata": {},
   "outputs": [],
   "source": [
    "def parser_greetings(text):\n",
    "    try:\n",
    "        first = next(_parser_greetings.findall(text))\n",
    "    except StopIteration:\n",
    "        return False\n",
    "    return True"
   ]
  },
  {
   "cell_type": "code",
   "execution_count": 48,
   "metadata": {},
   "outputs": [],
   "source": [
    "def parser_present(text):\n",
    "    try:\n",
    "        first = next(_parser_present.findall(text))\n",
    "    except StopIteration:\n",
    "        return None\n",
    "    return [_.value for _ in first.tokens]"
   ]
  },
  {
   "cell_type": "code",
   "execution_count": null,
   "metadata": {},
   "outputs": [],
   "source": [
    "import json\n",
    "\n",
    "def show_json(data):\n",
    "    print(json.dumps(data, indent=2, ensure_ascii=False))"
   ]
  },
  {
   "cell_type": "code",
   "execution_count": 68,
   "metadata": {},
   "outputs": [
    {
     "name": "stdout",
     "output_type": "stream",
     "text": [
      "я звать ангелина компания диджитал бизнес звонить вы по повод \n",
      "        ─────────────────────────────────                     \n",
      "продление а мы сель обратить внимание что \n"
     ]
    }
   ],
   "source": [
    "text = 'я звать ангелина компания диджитал бизнес звонить вы по повод продление а мы сель обратить внимание что '\n",
    "\n",
    "matches = list(_parser_present.findall(text))\n",
    "spans = [_.span for _ in matches]\n",
    "show_markup(text, spans)"
   ]
  },
  {
   "cell_type": "code",
   "execution_count": 69,
   "metadata": {},
   "outputs": [
    {
     "data": {
      "text/plain": [
       "[MorphToken(\n",
       "     value='я',\n",
       "     span=[0, 1),\n",
       "     type='RU',\n",
       "     forms=[Form('я', Grams(1per,NPRO,nomn,sing))]\n",
       " ),\n",
       " MorphToken(\n",
       "     value='звать',\n",
       "     span=[2, 7),\n",
       "     type='RU',\n",
       "     forms=[Form('звать', Grams(INFN,impf,tran))]\n",
       " ),\n",
       " MorphToken(\n",
       "     value='ангелина',\n",
       "     span=[8, 16),\n",
       "     type='RU',\n",
       "     forms=[Form('ангелина', Grams(NOUN,Name,anim,femn,nomn,sing))]\n",
       " ),\n",
       " MorphToken(\n",
       "     value='компания',\n",
       "     span=[17, 25),\n",
       "     type='RU',\n",
       "     forms=[Form('компания', Grams(NOUN,femn,inan,nomn,sing))]\n",
       " ),\n",
       " MorphToken(\n",
       "     value='диджитал',\n",
       "     span=[26, 34),\n",
       "     type='RU',\n",
       "     forms=[Form('диджитал', Grams(ADJF,Abbr,Fixd,masc,nomn,sing)),\n",
       "      Form('диджитал', Grams(ADJF,Abbr,Fixd,gent,masc,sing)),\n",
       "      Form('диджитал', Grams(ADJF,Abbr,Fixd,datv,masc,sing)),\n",
       "      Form('диджитал', Grams(ADJF,Abbr,Fixd,accs,masc,sing)),\n",
       "      Form('диджитал', Grams(ADJF,Abbr,Fixd,ablt,masc,sing)),\n",
       "      Form('диджитал', Grams(ADJF,Abbr,Fixd,loct,masc,sing)),\n",
       "      Form('диджитал', Grams(ADJF,Abbr,Fixd,femn,nomn,sing)),\n",
       "      Form('диджитал', Grams(ADJF,Abbr,Fixd,femn,gent,sing)),\n",
       "      Form('диджитал', Grams(ADJF,Abbr,Fixd,datv,femn,sing)),\n",
       "      Form('диджитал', Grams(ADJF,Abbr,Fixd,accs,femn,sing)),\n",
       "      Form('диджитал', Grams(ADJF,Abbr,Fixd,ablt,femn,sing)),\n",
       "      Form('диджитал', Grams(ADJF,Abbr,Fixd,femn,loct,sing)),\n",
       "      Form('диджитал', Grams(ADJF,Abbr,Fixd,neut,nomn,sing)),\n",
       "      Form('диджитал', Grams(ADJF,Abbr,Fixd,gent,neut,sing)),\n",
       "      Form('диджитал', Grams(ADJF,Abbr,Fixd,datv,neut,sing)),\n",
       "      Form('диджитал', Grams(ADJF,Abbr,Fixd,accs,neut,sing)),\n",
       "      Form('диджитал', Grams(ADJF,Abbr,Fixd,ablt,neut,sing)),\n",
       "      Form('диджитал', Grams(ADJF,Abbr,Fixd,loct,neut,sing)),\n",
       "      Form('диджитал', Grams(ADJF,Abbr,Fixd,nomn,plur)),\n",
       "      Form('диджитал', Grams(ADJF,Abbr,Fixd,gent,plur)),\n",
       "      Form('диджитал', Grams(ADJF,Abbr,Fixd,datv,plur)),\n",
       "      Form('диджитал', Grams(ADJF,Abbr,Fixd,accs,plur)),\n",
       "      Form('диджитал', Grams(ADJF,Abbr,Fixd,ablt,plur)),\n",
       "      Form('диджитал', Grams(ADJF,Abbr,Fixd,loct,plur)),\n",
       "      Form('диджиталый', Grams(ADJS,Qual,masc,sing)),\n",
       "      Form('диджитала', Grams(NOUN,Name,anim,gent,masc,plur)),\n",
       "      Form('диджитала', Grams(NOUN,Name,accs,anim,masc,plur)),\n",
       "      Form('диджитал', Grams(NOUN,inan,masc,nomn,sing)),\n",
       "      Form('диджитал', Grams(NOUN,accs,inan,masc,sing)),\n",
       "      Form('диджитала', Grams(NOUN,femn,gent,inan,plur)),\n",
       "      Form('диджитать', Grams(VERB,indc,masc,past,perf,sing,tran)),\n",
       "      Form('диджитал', Grams(NOUN,inan,masc,nomn,sing)),\n",
       "      Form('диджитал', Grams(NOUN,accs,inan,masc,sing))]\n",
       " ),\n",
       " MorphToken(\n",
       "     value='бизнес',\n",
       "     span=[35, 41),\n",
       "     type='RU',\n",
       "     forms=[Form('бизнес', Grams(NOUN,inan,masc,nomn,sing)),\n",
       "      Form('бизнес', Grams(NOUN,accs,inan,masc,sing))]\n",
       " ),\n",
       " MorphToken(\n",
       "     value='звонить',\n",
       "     span=[42, 49),\n",
       "     type='RU',\n",
       "     forms=[Form('звонить', Grams(INFN,impf,intr))]\n",
       " ),\n",
       " MorphToken(\n",
       "     value='вы',\n",
       "     span=[50, 52),\n",
       "     type='RU',\n",
       "     forms=[Form('вы', Grams(2per,NPRO,nomn,plur))]\n",
       " ),\n",
       " MorphToken(\n",
       "     value='по',\n",
       "     span=[53, 55),\n",
       "     type='RU',\n",
       "     forms=[Form('по', Grams(PREP)),\n",
       "      Form('по', Grams(Abbr,Fixd,NOUN,Sgtm,inan,neut,nomn,sing)),\n",
       "      Form('по', Grams(Abbr,Fixd,NOUN,Sgtm,gent,inan,neut,sing)),\n",
       "      Form('по', Grams(Abbr,Fixd,NOUN,Sgtm,datv,inan,neut,sing)),\n",
       "      Form('по', Grams(Abbr,Fixd,NOUN,Sgtm,accs,inan,neut,sing)),\n",
       "      Form('по', Grams(Abbr,Fixd,NOUN,Sgtm,ablt,inan,neut,sing)),\n",
       "      Form('по', Grams(Abbr,Fixd,NOUN,Sgtm,inan,loct,neut,sing)),\n",
       "      Form('по', Grams(Fixd,NOUN,Surn,anim,ms-f,nomn,sing)),\n",
       "      Form('по', Grams(Fixd,NOUN,Surn,anim,gent,ms-f,sing)),\n",
       "      Form('по', Grams(Fixd,NOUN,Surn,anim,datv,ms-f,sing)),\n",
       "      Form('по', Grams(Fixd,NOUN,Surn,accs,anim,ms-f,sing)),\n",
       "      Form('по', Grams(Fixd,NOUN,Surn,ablt,anim,ms-f,sing)),\n",
       "      Form('по', Grams(Fixd,NOUN,Surn,anim,loct,ms-f,sing)),\n",
       "      Form('по', Grams(Fixd,NOUN,Surn,anim,ms-f,nomn,plur)),\n",
       "      Form('по', Grams(Fixd,NOUN,Surn,anim,gent,ms-f,plur)),\n",
       "      Form('по', Grams(Fixd,NOUN,Surn,anim,datv,ms-f,plur)),\n",
       "      Form('по', Grams(Fixd,NOUN,Surn,accs,anim,ms-f,plur)),\n",
       "      Form('по', Grams(Fixd,NOUN,Surn,ablt,anim,ms-f,plur)),\n",
       "      Form('по', Grams(Fixd,NOUN,Surn,anim,loct,ms-f,plur))]\n",
       " ),\n",
       " MorphToken(\n",
       "     value='повод',\n",
       "     span=[56, 61),\n",
       "     type='RU',\n",
       "     forms=[Form('повод', Grams(NOUN,inan,masc,nomn,sing)),\n",
       "      Form('повод', Grams(NOUN,accs,inan,masc,sing))]\n",
       " ),\n",
       " MorphToken(\n",
       "     value='продление',\n",
       "     span=[62, 71),\n",
       "     type='RU',\n",
       "     forms=[Form('продление', Grams(NOUN,accs,inan,neut,sing)),\n",
       "      Form('продление', Grams(NOUN,inan,neut,nomn,sing))]\n",
       " ),\n",
       " MorphToken(\n",
       "     value='а',\n",
       "     span=[72, 73),\n",
       "     type='RU',\n",
       "     forms=[Form('а', Grams(CONJ)),\n",
       "      Form('а', Grams(INTJ)),\n",
       "      Form('а', Grams(PRCL))]\n",
       " ),\n",
       " MorphToken(\n",
       "     value='мы',\n",
       "     span=[74, 76),\n",
       "     type='RU',\n",
       "     forms=[Form('мы', Grams(1per,NPRO,nomn,plur))]\n",
       " ),\n",
       " MorphToken(\n",
       "     value='сель',\n",
       "     span=[77, 81),\n",
       "     type='RU',\n",
       "     forms=[Form('сель', Grams(NOUN,inan,masc,nomn,sing)),\n",
       "      Form('сель', Grams(NOUN,accs,inan,masc,sing))]\n",
       " ),\n",
       " MorphToken(\n",
       "     value='обратить',\n",
       "     span=[82, 90),\n",
       "     type='RU',\n",
       "     forms=[Form('обратить', Grams(INFN,perf,tran))]\n",
       " ),\n",
       " MorphToken(\n",
       "     value='внимание',\n",
       "     span=[91, 99),\n",
       "     type='RU',\n",
       "     forms=[Form('внимание', Grams(NOUN,accs,inan,neut,sing)),\n",
       "      Form('внимание', Grams(NOUN,inan,neut,nomn,sing))]\n",
       " ),\n",
       " MorphToken(\n",
       "     value='что',\n",
       "     span=[100, 103),\n",
       "     type='RU',\n",
       "     forms=[Form('что', Grams(CONJ)),\n",
       "      Form('что', Grams(PRCL)),\n",
       "      Form('что', Grams(NPRO,accs,neut,sing)),\n",
       "      Form('что', Grams(NPRO,neut,nomn,sing)),\n",
       "      Form('что', Grams(ADVB,Ques))]\n",
       " )]"
      ]
     },
     "execution_count": 69,
     "metadata": {},
     "output_type": "execute_result"
    }
   ],
   "source": [
    "TOKENIZER = MorphTokenizer()\n",
    "list(TOKENIZER(text))"
   ]
  },
  {
   "cell_type": "code",
   "execution_count": 44,
   "metadata": {},
   "outputs": [
    {
     "name": "stderr",
     "output_type": "stream",
     "text": [
      "100%|██████████| 480/480 [00:00<00:00, 2150.56it/s]\n"
     ]
    }
   ],
   "source": [
    "with Pool(4) as p:\n",
    "    lemmas = list(tqdm(p.imap(parser_greetings, df['text']), total=len(df)))\n",
    "    \n",
    "df['greeting'] = lemmas"
   ]
  },
  {
   "cell_type": "code",
   "execution_count": 49,
   "metadata": {},
   "outputs": [
    {
     "name": "stderr",
     "output_type": "stream",
     "text": [
      "100%|██████████| 480/480 [00:00<00:00, 1903.14it/s]\n"
     ]
    }
   ],
   "source": [
    "with Pool(4) as p:\n",
    "    lemmas = list(tqdm(p.imap(parser_present, df['text']), total=len(df)))\n",
    "    \n",
    "df['present'] = lemmas"
   ]
  },
  {
   "cell_type": "code",
   "execution_count": 53,
   "metadata": {},
   "outputs": [
    {
     "data": {
      "text/html": [
       "<div>\n",
       "<style scoped>\n",
       "    .dataframe tbody tr th:only-of-type {\n",
       "        vertical-align: middle;\n",
       "    }\n",
       "\n",
       "    .dataframe tbody tr th {\n",
       "        vertical-align: top;\n",
       "    }\n",
       "\n",
       "    .dataframe thead th {\n",
       "        text-align: right;\n",
       "    }\n",
       "</style>\n",
       "<table border=\"1\" class=\"dataframe\">\n",
       "  <thead>\n",
       "    <tr style=\"text-align: right;\">\n",
       "      <th></th>\n",
       "      <th>dlg_id</th>\n",
       "      <th>line_n</th>\n",
       "      <th>role</th>\n",
       "      <th>text</th>\n",
       "      <th>lemmas</th>\n",
       "      <th>greeting</th>\n",
       "      <th>present</th>\n",
       "    </tr>\n",
       "  </thead>\n",
       "  <tbody>\n",
       "    <tr>\n",
       "      <th>3</th>\n",
       "      <td>0</td>\n",
       "      <td>3</td>\n",
       "      <td>manager</td>\n",
       "      <td>Меня зовут ангелина компания диджитал бизнес звоним вам по поводу продления лицензии а мы с серым у вас скоро срок заканчивается</td>\n",
       "      <td>я звать ангелина компания диджитал бизнес звонить вы по повод продление лицензия а мы с серый у вы скоро срок заканчиваться</td>\n",
       "      <td>False</td>\n",
       "      <td>[ангелина, компания, диджитал, бизнес]</td>\n",
       "    </tr>\n",
       "    <tr>\n",
       "      <th>111</th>\n",
       "      <td>1</td>\n",
       "      <td>2</td>\n",
       "      <td>manager</td>\n",
       "      <td>Меня зовут ангелина компания диджитал бизнес звоню вам по поводу продления а мы сели обратила внимание что у вас срок заканчивается</td>\n",
       "      <td>я звать ангелина компания диджитал бизнес звонить вы по повод продление а мы сель обратить внимание что у вы срок заканчиваться</td>\n",
       "      <td>False</td>\n",
       "      <td>[ангелина, компания, диджитал, бизнес]</td>\n",
       "    </tr>\n",
       "    <tr>\n",
       "      <th>167</th>\n",
       "      <td>2</td>\n",
       "      <td>3</td>\n",
       "      <td>manager</td>\n",
       "      <td>Меня зовут ангелина компания диджитал бизнес звоню вам по поводу продления лицензии а мастера мы с вами сотрудничали по видео там</td>\n",
       "      <td>я звать ангелина компания диджитал бизнес звонить вы по повод продление лицензия а мастер мы с вы сотрудничать по видео там</td>\n",
       "      <td>False</td>\n",
       "      <td>[ангелина, компания, диджитал, бизнес]</td>\n",
       "    </tr>\n",
       "  </tbody>\n",
       "</table>\n",
       "</div>"
      ],
      "text/plain": [
       "     dlg_id  line_n     role                                                                                                                                 text                                                                                                                           lemmas  greeting                                 present\n",
       "3         0       3  manager     Меня зовут ангелина компания диджитал бизнес звоним вам по поводу продления лицензии а мы с серым у вас скоро срок заканчивается      я звать ангелина компания диджитал бизнес звонить вы по повод продление лицензия а мы с серый у вы скоро срок заканчиваться     False  [ангелина, компания, диджитал, бизнес]\n",
       "111       1       2  manager  Меня зовут ангелина компания диджитал бизнес звоню вам по поводу продления а мы сели обратила внимание что у вас срок заканчивается  я звать ангелина компания диджитал бизнес звонить вы по повод продление а мы сель обратить внимание что у вы срок заканчиваться     False  [ангелина, компания, диджитал, бизнес]\n",
       "167       2       3  manager    Меня зовут ангелина компания диджитал бизнес звоню вам по поводу продления лицензии а мастера мы с вами сотрудничали по видео там      я звать ангелина компания диджитал бизнес звонить вы по повод продление лицензия а мастер мы с вы сотрудничать по видео там     False  [ангелина, компания, диджитал, бизнес]"
      ]
     },
     "execution_count": 53,
     "metadata": {},
     "output_type": "execute_result"
    }
   ],
   "source": [
    "df.loc[~df['present'].isna()]"
   ]
  }
 ],
 "metadata": {
  "kernelspec": {
   "display_name": "Python 3 (ipykernel)",
   "language": "python",
   "name": "python3"
  },
  "language_info": {
   "codemirror_mode": {
    "name": "ipython",
    "version": 3
   },
   "file_extension": ".py",
   "mimetype": "text/x-python",
   "name": "python",
   "nbconvert_exporter": "python",
   "pygments_lexer": "ipython3",
   "version": "3.9.12"
  },
  "vscode": {
   "interpreter": {
    "hash": "fd2d63775d6b861368f2b68b88b1b40a35d08c6b96cd47d9eb8c9533c1d8ad02"
   }
  }
 },
 "nbformat": 4,
 "nbformat_minor": 2
}
